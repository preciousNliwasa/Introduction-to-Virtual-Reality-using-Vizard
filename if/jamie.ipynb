{
 "cells": [
  {
   "cell_type": "markdown",
   "id": "ac97521f",
   "metadata": {},
   "source": [
    "### Group Members - Takondwa Gama(bsc-act-hon-03-18), Gift-Jamie Mawerenga(bsc-act-hon-12-18),Precious Nliwasa(bsc-act-hon-10-18)\n",
    "\n",
    "#### --------------------------------"
   ]
  },
  {
   "cell_type": "markdown",
   "id": "ac3e9e9a",
   "metadata": {},
   "source": [
    "### BSC/ACT/HON/12/18\n",
    "### -----------------------------\n",
    "### Gift-jamie Mawerenga\n",
    "### -----------------------------\n",
    "##### Mortality Rate exercise"
   ]
  },
  {
   "cell_type": "code",
   "execution_count": null,
   "id": "3ee78744",
   "metadata": {},
   "outputs": [],
   "source": []
  },
  {
   "cell_type": "code",
   "execution_count": null,
   "id": "ed1ff895",
   "metadata": {},
   "outputs": [],
   "source": []
  },
  {
   "cell_type": "code",
   "execution_count": null,
   "id": "3202b861",
   "metadata": {},
   "outputs": [],
   "source": []
  },
  {
   "cell_type": "code",
   "execution_count": 105,
   "id": "ee38a416",
   "metadata": {},
   "outputs": [],
   "source": [
    "import pandas as pd\n",
    "import numpy as np\n",
    "import statsmodels.api as sm"
   ]
  },
  {
   "cell_type": "code",
   "execution_count": 106,
   "id": "42bd2a25",
   "metadata": {},
   "outputs": [],
   "source": [
    "import matplotlib.pyplot as plt\n",
    "import seaborn as sns\n",
    "%matplotlib inline"
   ]
  },
  {
   "cell_type": "code",
   "execution_count": 107,
   "id": "0cb349dc",
   "metadata": {},
   "outputs": [],
   "source": [
    "import warnings\n",
    "warnings.filterwarnings('ignore')"
   ]
  },
  {
   "cell_type": "code",
   "execution_count": 108,
   "id": "c1573b92",
   "metadata": {},
   "outputs": [],
   "source": [
    "#Setting Defaults\n",
    "plt.style.use(\"seaborn-whitegrid\")\n",
    "plt.rc(\n",
    "    \"figure\",\n",
    "    autolayout=True,\n",
    "    figsize=(13, 4),\n",
    "    titlesize=18,\n",
    "    titleweight='bold',\n",
    ")\n",
    "plt.rc(\n",
    "    \"axes\",\n",
    "    labelweight=\"bold\",\n",
    "    labelsize=\"large\",\n",
    "    titleweight=\"bold\",\n",
    "    titlesize=16,\n",
    "    titlepad=10,\n",
    ")\n",
    "%config InlineBackend.figure_format = 'retina'"
   ]
  },
  {
   "cell_type": "code",
   "execution_count": null,
   "id": "16d5b049",
   "metadata": {},
   "outputs": [],
   "source": []
  },
  {
   "cell_type": "markdown",
   "id": "323564ff",
   "metadata": {},
   "source": [
    "### Question A"
   ]
  },
  {
   "cell_type": "code",
   "execution_count": 109,
   "id": "909caec3",
   "metadata": {},
   "outputs": [],
   "source": [
    "df = pd.read_csv(r'C:\\Users\\user\\Downloads\\Assignment\\Assignment\\mortrate.csv')"
   ]
  },
  {
   "cell_type": "code",
   "execution_count": 110,
   "id": "aaaca59c",
   "metadata": {},
   "outputs": [
    {
     "data": {
      "text/html": [
       "<div>\n",
       "<style scoped>\n",
       "    .dataframe tbody tr th:only-of-type {\n",
       "        vertical-align: middle;\n",
       "    }\n",
       "\n",
       "    .dataframe tbody tr th {\n",
       "        vertical-align: top;\n",
       "    }\n",
       "\n",
       "    .dataframe thead th {\n",
       "        text-align: right;\n",
       "    }\n",
       "</style>\n",
       "<table border=\"1\" class=\"dataframe\">\n",
       "  <thead>\n",
       "    <tr style=\"text-align: right;\">\n",
       "      <th></th>\n",
       "      <th>yearcode</th>\n",
       "      <th>mortrate</th>\n",
       "    </tr>\n",
       "  </thead>\n",
       "  <tbody>\n",
       "    <tr>\n",
       "      <th>0</th>\n",
       "      <td>1/1/1960</td>\n",
       "      <td>448.651</td>\n",
       "    </tr>\n",
       "    <tr>\n",
       "      <th>1</th>\n",
       "      <td>1/1/1961</td>\n",
       "      <td>446.245</td>\n",
       "    </tr>\n",
       "    <tr>\n",
       "      <th>2</th>\n",
       "      <td>1/1/1962</td>\n",
       "      <td>443.839</td>\n",
       "    </tr>\n",
       "    <tr>\n",
       "      <th>3</th>\n",
       "      <td>1/1/1963</td>\n",
       "      <td>441.700</td>\n",
       "    </tr>\n",
       "    <tr>\n",
       "      <th>4</th>\n",
       "      <td>1/1/1964</td>\n",
       "      <td>439.561</td>\n",
       "    </tr>\n",
       "    <tr>\n",
       "      <th>...</th>\n",
       "      <td>...</td>\n",
       "      <td>...</td>\n",
       "    </tr>\n",
       "    <tr>\n",
       "      <th>57</th>\n",
       "      <td>1/1/2017</td>\n",
       "      <td>331.044</td>\n",
       "    </tr>\n",
       "    <tr>\n",
       "      <th>58</th>\n",
       "      <td>1/1/2018</td>\n",
       "      <td>325.106</td>\n",
       "    </tr>\n",
       "    <tr>\n",
       "      <th>59</th>\n",
       "      <td>1/1/2019</td>\n",
       "      <td>318.892</td>\n",
       "    </tr>\n",
       "    <tr>\n",
       "      <th>60</th>\n",
       "      <td>1/1/2020</td>\n",
       "      <td>312.678</td>\n",
       "    </tr>\n",
       "    <tr>\n",
       "      <th>61</th>\n",
       "      <td>NaN</td>\n",
       "      <td>NaN</td>\n",
       "    </tr>\n",
       "  </tbody>\n",
       "</table>\n",
       "<p>62 rows × 2 columns</p>\n",
       "</div>"
      ],
      "text/plain": [
       "    yearcode  mortrate\n",
       "0   1/1/1960   448.651\n",
       "1   1/1/1961   446.245\n",
       "2   1/1/1962   443.839\n",
       "3   1/1/1963   441.700\n",
       "4   1/1/1964   439.561\n",
       "..       ...       ...\n",
       "57  1/1/2017   331.044\n",
       "58  1/1/2018   325.106\n",
       "59  1/1/2019   318.892\n",
       "60  1/1/2020   312.678\n",
       "61       NaN       NaN\n",
       "\n",
       "[62 rows x 2 columns]"
      ]
     },
     "execution_count": 110,
     "metadata": {},
     "output_type": "execute_result"
    }
   ],
   "source": [
    "df"
   ]
  },
  {
   "cell_type": "code",
   "execution_count": 111,
   "id": "9aabc12a",
   "metadata": {},
   "outputs": [],
   "source": [
    "df.yearcode = pd.to_datetime(df.yearcode)"
   ]
  },
  {
   "cell_type": "code",
   "execution_count": 112,
   "id": "edad3894",
   "metadata": {},
   "outputs": [
    {
     "data": {
      "text/html": [
       "<div>\n",
       "<style scoped>\n",
       "    .dataframe tbody tr th:only-of-type {\n",
       "        vertical-align: middle;\n",
       "    }\n",
       "\n",
       "    .dataframe tbody tr th {\n",
       "        vertical-align: top;\n",
       "    }\n",
       "\n",
       "    .dataframe thead th {\n",
       "        text-align: right;\n",
       "    }\n",
       "</style>\n",
       "<table border=\"1\" class=\"dataframe\">\n",
       "  <thead>\n",
       "    <tr style=\"text-align: right;\">\n",
       "      <th></th>\n",
       "      <th>yearcode</th>\n",
       "      <th>mortrate</th>\n",
       "    </tr>\n",
       "  </thead>\n",
       "  <tbody>\n",
       "    <tr>\n",
       "      <th>0</th>\n",
       "      <td>1960-01-01</td>\n",
       "      <td>448.651</td>\n",
       "    </tr>\n",
       "    <tr>\n",
       "      <th>1</th>\n",
       "      <td>1961-01-01</td>\n",
       "      <td>446.245</td>\n",
       "    </tr>\n",
       "    <tr>\n",
       "      <th>2</th>\n",
       "      <td>1962-01-01</td>\n",
       "      <td>443.839</td>\n",
       "    </tr>\n",
       "    <tr>\n",
       "      <th>3</th>\n",
       "      <td>1963-01-01</td>\n",
       "      <td>441.700</td>\n",
       "    </tr>\n",
       "    <tr>\n",
       "      <th>4</th>\n",
       "      <td>1964-01-01</td>\n",
       "      <td>439.561</td>\n",
       "    </tr>\n",
       "  </tbody>\n",
       "</table>\n",
       "</div>"
      ],
      "text/plain": [
       "    yearcode  mortrate\n",
       "0 1960-01-01   448.651\n",
       "1 1961-01-01   446.245\n",
       "2 1962-01-01   443.839\n",
       "3 1963-01-01   441.700\n",
       "4 1964-01-01   439.561"
      ]
     },
     "execution_count": 112,
     "metadata": {},
     "output_type": "execute_result"
    }
   ],
   "source": [
    "df.head()"
   ]
  },
  {
   "cell_type": "code",
   "execution_count": 113,
   "id": "f2c15cf4",
   "metadata": {},
   "outputs": [
    {
     "data": {
      "text/html": [
       "<div>\n",
       "<style scoped>\n",
       "    .dataframe tbody tr th:only-of-type {\n",
       "        vertical-align: middle;\n",
       "    }\n",
       "\n",
       "    .dataframe tbody tr th {\n",
       "        vertical-align: top;\n",
       "    }\n",
       "\n",
       "    .dataframe thead th {\n",
       "        text-align: right;\n",
       "    }\n",
       "</style>\n",
       "<table border=\"1\" class=\"dataframe\">\n",
       "  <thead>\n",
       "    <tr style=\"text-align: right;\">\n",
       "      <th></th>\n",
       "      <th>yearcode</th>\n",
       "      <th>mortrate</th>\n",
       "    </tr>\n",
       "  </thead>\n",
       "  <tbody>\n",
       "    <tr>\n",
       "      <th>57</th>\n",
       "      <td>2017-01-01</td>\n",
       "      <td>331.044</td>\n",
       "    </tr>\n",
       "    <tr>\n",
       "      <th>58</th>\n",
       "      <td>2018-01-01</td>\n",
       "      <td>325.106</td>\n",
       "    </tr>\n",
       "    <tr>\n",
       "      <th>59</th>\n",
       "      <td>2019-01-01</td>\n",
       "      <td>318.892</td>\n",
       "    </tr>\n",
       "    <tr>\n",
       "      <th>60</th>\n",
       "      <td>2020-01-01</td>\n",
       "      <td>312.678</td>\n",
       "    </tr>\n",
       "    <tr>\n",
       "      <th>61</th>\n",
       "      <td>NaT</td>\n",
       "      <td>NaN</td>\n",
       "    </tr>\n",
       "  </tbody>\n",
       "</table>\n",
       "</div>"
      ],
      "text/plain": [
       "     yearcode  mortrate\n",
       "57 2017-01-01   331.044\n",
       "58 2018-01-01   325.106\n",
       "59 2019-01-01   318.892\n",
       "60 2020-01-01   312.678\n",
       "61        NaT       NaN"
      ]
     },
     "execution_count": 113,
     "metadata": {},
     "output_type": "execute_result"
    }
   ],
   "source": [
    "df.tail()"
   ]
  },
  {
   "cell_type": "code",
   "execution_count": 114,
   "id": "8017d0d4",
   "metadata": {},
   "outputs": [],
   "source": [
    "df.dropna(inplace = True)"
   ]
  },
  {
   "cell_type": "markdown",
   "id": "ae7a9767",
   "metadata": {},
   "source": [
    "#### Question B"
   ]
  },
  {
   "cell_type": "code",
   "execution_count": 115,
   "id": "9dd9be4d",
   "metadata": {},
   "outputs": [
    {
     "data": {
      "image/png": "[encoded data removed]",
      "text/plain": [
       "<Figure size 936x288 with 1 Axes>"
      ]
     },
     "metadata": {
      "image/png": {
       "height": 280,
       "width": 928
      }
     },
     "output_type": "display_data"
    }
   ],
   "source": [
    "plt.plot(df.yearcode,df.mortrate,label = 'mortality rates')\n",
    "plt.xlabel('Year')\n",
    "plt.ylabel('Rates')\n",
    "plt.title('Time Plot for Mortality Rates 1960-2020')\n",
    "plt.show()"
   ]
  },
  {
   "cell_type": "code",
   "execution_count": null,
   "id": "9621b26d",
   "metadata": {},
   "outputs": [],
   "source": []
  },
  {
   "cell_type": "markdown",
   "id": "7d23bd7e",
   "metadata": {},
   "source": [
    "##### An erruption of a sexually transmitted disease called AIDS caused by a virus known as HIV might have been the cause. The disease has no cure. The reason why the mortality rates decreased in early 2000s is  because of introduction of drugs called ARVs.These drugs don’t cure HIV, but they can reduce the amount of virus in the body of someone living with HIV. This keeps the immune system strong enough to fight off disease. People after early 2000s were using ARVs therefore mortality rates decreased."
   ]
  },
  {
   "cell_type": "code",
   "execution_count": null,
   "id": "ad4cc4e1",
   "metadata": {},
   "outputs": [],
   "source": []
  },
  {
   "cell_type": "code",
   "execution_count": null,
   "id": "7cb94979",
   "metadata": {},
   "outputs": [],
   "source": []
  },
  {
   "cell_type": "markdown",
   "id": "ace19b26",
   "metadata": {},
   "source": [
    "#### Question C"
   ]
  },
  {
   "cell_type": "code",
   "execution_count": 116,
   "id": "5ecee2c1",
   "metadata": {},
   "outputs": [],
   "source": [
    "df['Diff'] = df.mortrate.diff()"
   ]
  },
  {
   "cell_type": "code",
   "execution_count": 117,
   "id": "736863e6",
   "metadata": {},
   "outputs": [
    {
     "data": {
      "text/html": [
       "<div>\n",
       "<style scoped>\n",
       "    .dataframe tbody tr th:only-of-type {\n",
       "        vertical-align: middle;\n",
       "    }\n",
       "\n",
       "    .dataframe tbody tr th {\n",
       "        vertical-align: top;\n",
       "    }\n",
       "\n",
       "    .dataframe thead th {\n",
       "        text-align: right;\n",
       "    }\n",
       "</style>\n",
       "<table border=\"1\" class=\"dataframe\">\n",
       "  <thead>\n",
       "    <tr style=\"text-align: right;\">\n",
       "      <th></th>\n",
       "      <th>yearcode</th>\n",
       "      <th>mortrate</th>\n",
       "      <th>Diff</th>\n",
       "    </tr>\n",
       "  </thead>\n",
       "  <tbody>\n",
       "    <tr>\n",
       "      <th>0</th>\n",
       "      <td>1960-01-01</td>\n",
       "      <td>448.651</td>\n",
       "      <td>NaN</td>\n",
       "    </tr>\n",
       "    <tr>\n",
       "      <th>1</th>\n",
       "      <td>1961-01-01</td>\n",
       "      <td>446.245</td>\n",
       "      <td>-2.406</td>\n",
       "    </tr>\n",
       "    <tr>\n",
       "      <th>2</th>\n",
       "      <td>1962-01-01</td>\n",
       "      <td>443.839</td>\n",
       "      <td>-2.406</td>\n",
       "    </tr>\n",
       "    <tr>\n",
       "      <th>3</th>\n",
       "      <td>1963-01-01</td>\n",
       "      <td>441.700</td>\n",
       "      <td>-2.139</td>\n",
       "    </tr>\n",
       "    <tr>\n",
       "      <th>4</th>\n",
       "      <td>1964-01-01</td>\n",
       "      <td>439.561</td>\n",
       "      <td>-2.139</td>\n",
       "    </tr>\n",
       "  </tbody>\n",
       "</table>\n",
       "</div>"
      ],
      "text/plain": [
       "    yearcode  mortrate   Diff\n",
       "0 1960-01-01   448.651    NaN\n",
       "1 1961-01-01   446.245 -2.406\n",
       "2 1962-01-01   443.839 -2.406\n",
       "3 1963-01-01   441.700 -2.139\n",
       "4 1964-01-01   439.561 -2.139"
      ]
     },
     "execution_count": 117,
     "metadata": {},
     "output_type": "execute_result"
    }
   ],
   "source": [
    "df.head()"
   ]
  },
  {
   "cell_type": "code",
   "execution_count": 118,
   "id": "37e5196d",
   "metadata": {},
   "outputs": [
    {
     "data": {
      "text/html": [
       "<div>\n",
       "<style scoped>\n",
       "    .dataframe tbody tr th:only-of-type {\n",
       "        vertical-align: middle;\n",
       "    }\n",
       "\n",
       "    .dataframe tbody tr th {\n",
       "        vertical-align: top;\n",
       "    }\n",
       "\n",
       "    .dataframe thead th {\n",
       "        text-align: right;\n",
       "    }\n",
       "</style>\n",
       "<table border=\"1\" class=\"dataframe\">\n",
       "  <thead>\n",
       "    <tr style=\"text-align: right;\">\n",
       "      <th></th>\n",
       "      <th>yearcode</th>\n",
       "      <th>mortrate</th>\n",
       "      <th>Diff</th>\n",
       "    </tr>\n",
       "  </thead>\n",
       "  <tbody>\n",
       "    <tr>\n",
       "      <th>56</th>\n",
       "      <td>2016-01-01</td>\n",
       "      <td>341.306</td>\n",
       "      <td>-10.262</td>\n",
       "    </tr>\n",
       "    <tr>\n",
       "      <th>57</th>\n",
       "      <td>2017-01-01</td>\n",
       "      <td>331.044</td>\n",
       "      <td>-10.262</td>\n",
       "    </tr>\n",
       "    <tr>\n",
       "      <th>58</th>\n",
       "      <td>2018-01-01</td>\n",
       "      <td>325.106</td>\n",
       "      <td>-5.938</td>\n",
       "    </tr>\n",
       "    <tr>\n",
       "      <th>59</th>\n",
       "      <td>2019-01-01</td>\n",
       "      <td>318.892</td>\n",
       "      <td>-6.214</td>\n",
       "    </tr>\n",
       "    <tr>\n",
       "      <th>60</th>\n",
       "      <td>2020-01-01</td>\n",
       "      <td>312.678</td>\n",
       "      <td>-6.214</td>\n",
       "    </tr>\n",
       "  </tbody>\n",
       "</table>\n",
       "</div>"
      ],
      "text/plain": [
       "     yearcode  mortrate    Diff\n",
       "56 2016-01-01   341.306 -10.262\n",
       "57 2017-01-01   331.044 -10.262\n",
       "58 2018-01-01   325.106  -5.938\n",
       "59 2019-01-01   318.892  -6.214\n",
       "60 2020-01-01   312.678  -6.214"
      ]
     },
     "execution_count": 118,
     "metadata": {},
     "output_type": "execute_result"
    }
   ],
   "source": [
    "df.tail()"
   ]
  },
  {
   "cell_type": "code",
   "execution_count": null,
   "id": "c810ff0c",
   "metadata": {},
   "outputs": [],
   "source": []
  },
  {
   "cell_type": "markdown",
   "id": "d6caefc4",
   "metadata": {},
   "source": [
    "#### Question D"
   ]
  },
  {
   "cell_type": "code",
   "execution_count": 119,
   "id": "ee07205c",
   "metadata": {},
   "outputs": [],
   "source": [
    "from statsmodels.graphics.tsaplots import plot_acf,plot_pacf"
   ]
  },
  {
   "cell_type": "code",
   "execution_count": null,
   "id": "aee82cad",
   "metadata": {},
   "outputs": [],
   "source": []
  },
  {
   "cell_type": "code",
   "execution_count": 120,
   "id": "04ac4334",
   "metadata": {},
   "outputs": [
    {
     "data": {
      "image/png": "[encoded data removed]",
      "text/plain": [
       "<Figure size 936x288 with 1 Axes>"
      ]
     },
     "metadata": {
      "image/png": {
       "height": 280,
       "width": 928
      }
     },
     "output_type": "display_data"
    }
   ],
   "source": [
    "plot_acf(df.Diff.dropna(),alpha = 0.01,lags = 5)\n",
    "plt.show()"
   ]
  },
  {
   "cell_type": "code",
   "execution_count": 121,
   "id": "738149eb",
   "metadata": {},
   "outputs": [
    {
     "data": {
      "image/png": "[encoded data removed]",
      "text/plain": [
       "<Figure size 936x288 with 1 Axes>"
      ]
     },
     "metadata": {
      "image/png": {
       "height": 280,
       "width": 928
      }
     },
     "output_type": "display_data"
    }
   ],
   "source": [
    "plot_pacf(df.Diff.dropna(),alpha = 0.01,lags = 5,method = 'ywm')\n",
    "plt.show()"
   ]
  },
  {
   "cell_type": "code",
   "execution_count": null,
   "id": "63827086",
   "metadata": {},
   "outputs": [],
   "source": []
  },
  {
   "cell_type": "code",
   "execution_count": 122,
   "id": "96b5ca51",
   "metadata": {},
   "outputs": [],
   "source": [
    "# suggestions :  AR(2),AR(1) ,MA(2),MA(3),MA(4)"
   ]
  },
  {
   "cell_type": "code",
   "execution_count": null,
   "id": "884f9e3f",
   "metadata": {},
   "outputs": [],
   "source": []
  },
  {
   "cell_type": "markdown",
   "id": "bf0e5266",
   "metadata": {},
   "source": [
    "#### Question E "
   ]
  },
  {
   "cell_type": "code",
   "execution_count": 123,
   "id": "218969cc",
   "metadata": {},
   "outputs": [
    {
     "name": "stdout",
     "output_type": "stream",
     "text": [
      "                               SARIMAX Results                                \n",
      "==============================================================================\n",
      "Dep. Variable:                   Diff   No. Observations:                   61\n",
      "Model:                 ARIMA(2, 0, 0)   Log Likelihood                -184.760\n",
      "Date:                Wed, 21 Dec 2022   AIC                            377.520\n",
      "Time:                        02:57:02   BIC                            385.964\n",
      "Sample:                             0   HQIC                           380.829\n",
      "                                 - 61                                         \n",
      "Covariance Type:                  opg                                         \n",
      "==============================================================================\n",
      "                 coef    std err          z      P>|z|      [0.025      0.975]\n",
      "------------------------------------------------------------------------------\n",
      "const         -2.7689      9.415     -0.294      0.769     -21.223      15.685\n",
      "ar.L1          0.9463      0.562      1.684      0.092      -0.155       2.047\n",
      "ar.L2         -0.0358      0.567     -0.063      0.950      -1.147       1.075\n",
      "sigma2        26.8626      2.786      9.644      0.000      21.403      32.322\n",
      "===================================================================================\n",
      "Ljung-Box (L1) (Q):                   0.01   Jarque-Bera (JB):               530.98\n",
      "Prob(Q):                              0.91   Prob(JB):                         0.00\n",
      "Heteroskedasticity (H):             109.77   Skew:                            -1.81\n",
      "Prob(H) (two-sided):                  0.00   Kurtosis:                        16.99\n",
      "===================================================================================\n",
      "\n",
      "Warnings:\n",
      "[1] Covariance matrix calculated using the outer product of gradients (complex-step).\n"
     ]
    }
   ],
   "source": [
    "#Estimate the AR (2)\n",
    "from statsmodels.tsa.arima_model import ARIMA\n",
    "model_1 = sm.tsa.arima.ARIMA(df['Diff'], order=(2, 0, 0))\n",
    "resid_1 = model_1.fit()\n",
    "print(resid_1.summary())"
   ]
  },
  {
   "cell_type": "markdown",
   "id": "b2b1b33b",
   "metadata": {},
   "source": [
    "###### AIC = 377.520, BIC = 385\n",
    "\n",
    "###### Ljung-Box statistic is 0.01 which is very low. It can be said that innovations are white noise."
   ]
  },
  {
   "cell_type": "code",
   "execution_count": null,
   "id": "196b6f91",
   "metadata": {},
   "outputs": [],
   "source": []
  },
  {
   "cell_type": "code",
   "execution_count": 124,
   "id": "fd202d1c",
   "metadata": {},
   "outputs": [
    {
     "name": "stdout",
     "output_type": "stream",
     "text": [
      "                               SARIMAX Results                                \n",
      "==============================================================================\n",
      "Dep. Variable:                   Diff   No. Observations:                   61\n",
      "Model:                 ARIMA(0, 0, 2)   Log Likelihood                -199.577\n",
      "Date:                Wed, 21 Dec 2022   AIC                            407.155\n",
      "Time:                        02:57:03   BIC                            415.598\n",
      "Sample:                             0   HQIC                           410.464\n",
      "                                 - 61                                         \n",
      "Covariance Type:                  opg                                         \n",
      "==============================================================================\n",
      "                 coef    std err          z      P>|z|      [0.025      0.975]\n",
      "------------------------------------------------------------------------------\n",
      "const         -2.2052      2.650     -0.832      0.405      -7.399       2.989\n",
      "ma.L1          0.6843     20.039      0.034      0.973     -38.592      39.960\n",
      "ma.L2          0.9999     58.507      0.017      0.986    -113.672     115.672\n",
      "sigma2        40.3757   2360.304      0.017      0.986   -4585.734    4666.486\n",
      "===================================================================================\n",
      "Ljung-Box (L1) (Q):                  16.84   Jarque-Bera (JB):                 8.93\n",
      "Prob(Q):                              0.00   Prob(JB):                         0.01\n",
      "Heteroskedasticity (H):             109.35   Skew:                            -0.88\n",
      "Prob(H) (two-sided):                  0.00   Kurtosis:                         3.64\n",
      "===================================================================================\n",
      "\n",
      "Warnings:\n",
      "[1] Covariance matrix calculated using the outer product of gradients (complex-step).\n"
     ]
    }
   ],
   "source": [
    "#Estimate the MA (2)\n",
    "from statsmodels.tsa.arima_model import ARIMA\n",
    "model_2 = sm.tsa.arima.ARIMA(df['Diff'], order=(0, 0, 2))\n",
    "resid_2 = model_2.fit()\n",
    "print(resid_2.summary())"
   ]
  },
  {
   "cell_type": "markdown",
   "id": "0a765e3a",
   "metadata": {},
   "source": [
    "###### AIC = 407.155, BIC = 414.598\n",
    "\n",
    "###### Ljung-Box statistic is 16.84 which is higher than that of AR(2). It can be said that innovations are not white noise"
   ]
  },
  {
   "cell_type": "code",
   "execution_count": null,
   "id": "604fe3da",
   "metadata": {},
   "outputs": [],
   "source": []
  },
  {
   "cell_type": "code",
   "execution_count": 125,
   "id": "798b90b2",
   "metadata": {},
   "outputs": [
    {
     "name": "stdout",
     "output_type": "stream",
     "text": [
      "                               SARIMAX Results                                \n",
      "==============================================================================\n",
      "Dep. Variable:                   Diff   No. Observations:                   61\n",
      "Model:                 ARIMA(0, 0, 3)   Log Likelihood                -187.110\n",
      "Date:                Wed, 21 Dec 2022   AIC                            384.221\n",
      "Time:                        02:57:04   BIC                            394.775\n",
      "Sample:                             0   HQIC                           388.357\n",
      "                                 - 61                                         \n",
      "Covariance Type:                  opg                                         \n",
      "==============================================================================\n",
      "                 coef    std err          z      P>|z|      [0.025      0.975]\n",
      "------------------------------------------------------------------------------\n",
      "const         -2.1921      4.007     -0.547      0.584     -10.046       5.661\n",
      "ma.L1          1.5448     13.583      0.114      0.909     -25.078      28.167\n",
      "ma.L2          1.5450     64.584      0.024      0.981    -125.037     128.127\n",
      "ma.L3          0.9991     50.465      0.020      0.984     -97.910      99.908\n",
      "sigma2        25.2014   1272.685      0.020      0.984   -2469.215    2519.618\n",
      "===================================================================================\n",
      "Ljung-Box (L1) (Q):                   1.03   Jarque-Bera (JB):                25.13\n",
      "Prob(Q):                              0.31   Prob(JB):                         0.00\n",
      "Heteroskedasticity (H):              81.26   Skew:                            -0.98\n",
      "Prob(H) (two-sided):                  0.00   Kurtosis:                         5.45\n",
      "===================================================================================\n",
      "\n",
      "Warnings:\n",
      "[1] Covariance matrix calculated using the outer product of gradients (complex-step).\n"
     ]
    }
   ],
   "source": [
    "#Estimate the MA (3)\n",
    "from statsmodels.tsa.arima_model import ARIMA\n",
    "model_3 = sm.tsa.arima.ARIMA(df['Diff'], order=(0, 0, 3))\n",
    "resid_3 = model_3.fit()\n",
    "print(resid_3.summary())"
   ]
  },
  {
   "cell_type": "markdown",
   "id": "b8701f2b",
   "metadata": {},
   "source": [
    "###### AIC = 384.221, BIC = 394.775\n",
    "\n",
    "###### Ljung-Box statistic is 1.03 which is very low."
   ]
  },
  {
   "cell_type": "code",
   "execution_count": null,
   "id": "337d8d0a",
   "metadata": {},
   "outputs": [],
   "source": []
  },
  {
   "cell_type": "code",
   "execution_count": 126,
   "id": "55db83a3",
   "metadata": {},
   "outputs": [
    {
     "name": "stdout",
     "output_type": "stream",
     "text": [
      "                               SARIMAX Results                                \n",
      "==============================================================================\n",
      "Dep. Variable:                   Diff   No. Observations:                   61\n",
      "Model:                 ARIMA(0, 0, 4)   Log Likelihood                -186.629\n",
      "Date:                Wed, 21 Dec 2022   AIC                            385.259\n",
      "Time:                        02:57:04   BIC                            397.924\n",
      "Sample:                             0   HQIC                           390.222\n",
      "                                 - 61                                         \n",
      "Covariance Type:                  opg                                         \n",
      "==============================================================================\n",
      "                 coef    std err          z      P>|z|      [0.025      0.975]\n",
      "------------------------------------------------------------------------------\n",
      "const         -2.2715      3.687     -0.616      0.538      -9.499       4.956\n",
      "ma.L1          1.4508      5.590      0.260      0.795      -9.505      12.406\n",
      "ma.L2          1.3957     25.014      0.056      0.956     -47.632      50.423\n",
      "ma.L3          0.8316     17.218      0.048      0.961     -32.914      34.577\n",
      "ma.L4         -0.1032      2.062     -0.050      0.960      -4.144       3.938\n",
      "sigma2        25.0644    501.236      0.050      0.960    -957.340    1007.468\n",
      "===================================================================================\n",
      "Ljung-Box (L1) (Q):                   0.01   Jarque-Bera (JB):                24.26\n",
      "Prob(Q):                              0.94   Prob(JB):                         0.00\n",
      "Heteroskedasticity (H):              84.10   Skew:                            -1.04\n",
      "Prob(H) (two-sided):                  0.00   Kurtosis:                         5.28\n",
      "===================================================================================\n",
      "\n",
      "Warnings:\n",
      "[1] Covariance matrix calculated using the outer product of gradients (complex-step).\n"
     ]
    }
   ],
   "source": [
    "#Estimate the MA (4)\n",
    "from statsmodels.tsa.arima_model import ARIMA\n",
    "model_4 = sm.tsa.arima.ARIMA(df['Diff'], order=(0, 0, 4))\n",
    "resid_4 = model_4.fit()\n",
    "print(resid_4.summary())"
   ]
  },
  {
   "cell_type": "markdown",
   "id": "c4a2028b",
   "metadata": {},
   "source": [
    "###### AIC = 385.259, BIC = 397.924\n",
    "\n",
    "###### Ljung-Box statistic is 0.01 which is very low. It can be said that innovations are white noise"
   ]
  },
  {
   "cell_type": "code",
   "execution_count": null,
   "id": "927d8032",
   "metadata": {},
   "outputs": [],
   "source": []
  },
  {
   "cell_type": "code",
   "execution_count": 127,
   "id": "9b500b3a",
   "metadata": {},
   "outputs": [
    {
     "name": "stdout",
     "output_type": "stream",
     "text": [
      "                               SARIMAX Results                                \n",
      "==============================================================================\n",
      "Dep. Variable:                   Diff   No. Observations:                   61\n",
      "Model:                 ARIMA(1, 0, 0)   Log Likelihood                -184.800\n",
      "Date:                Wed, 21 Dec 2022   AIC                            375.599\n",
      "Time:                        02:57:05   BIC                            381.932\n",
      "Sample:                             0   HQIC                           378.081\n",
      "                                 - 61                                         \n",
      "Covariance Type:                  opg                                         \n",
      "==============================================================================\n",
      "                 coef    std err          z      P>|z|      [0.025      0.975]\n",
      "------------------------------------------------------------------------------\n",
      "const         -2.7962      9.658     -0.290      0.772     -21.725      16.133\n",
      "ar.L1          0.9129      0.053     17.168      0.000       0.809       1.017\n",
      "sigma2        26.9024      2.780      9.676      0.000      21.453      32.352\n",
      "===================================================================================\n",
      "Ljung-Box (L1) (Q):                   0.15   Jarque-Bera (JB):               532.40\n",
      "Prob(Q):                              0.70   Prob(JB):                         0.00\n",
      "Heteroskedasticity (H):             109.54   Skew:                            -1.81\n",
      "Prob(H) (two-sided):                  0.00   Kurtosis:                        17.01\n",
      "===================================================================================\n",
      "\n",
      "Warnings:\n",
      "[1] Covariance matrix calculated using the outer product of gradients (complex-step).\n"
     ]
    }
   ],
   "source": [
    "#Estimate the AR (1)\n",
    "from statsmodels.tsa.arima_model import ARIMA\n",
    "model_5 = sm.tsa.arima.ARIMA(df['Diff'], order=(1, 0, 0))\n",
    "resid_5 = model_5.fit()\n",
    "print(resid_5.summary())"
   ]
  },
  {
   "cell_type": "markdown",
   "id": "63782a4d",
   "metadata": {},
   "source": [
    "###### AIC = 375.599, BIC = 381.932, Suggesting use of AR(1) because it has lowest AIC and BIC\n",
    "\n",
    "###### Ljung-Box statistic is 0.15 which is very low. It can be said that innovations are white noise"
   ]
  },
  {
   "cell_type": "code",
   "execution_count": null,
   "id": "a28c75f9",
   "metadata": {},
   "outputs": [],
   "source": []
  },
  {
   "cell_type": "markdown",
   "id": "f2f63d6a",
   "metadata": {},
   "source": [
    "#### Question F"
   ]
  },
  {
   "cell_type": "code",
   "execution_count": null,
   "id": "9a88ede5",
   "metadata": {},
   "outputs": [],
   "source": []
  },
  {
   "cell_type": "code",
   "execution_count": 128,
   "id": "fc9fa330",
   "metadata": {},
   "outputs": [],
   "source": [
    "df = df[1:].reset_index(drop=True) # reindexing"
   ]
  },
  {
   "cell_type": "code",
   "execution_count": 129,
   "id": "6152135d",
   "metadata": {},
   "outputs": [],
   "source": [
    "df2 = df"
   ]
  },
  {
   "cell_type": "code",
   "execution_count": null,
   "id": "bf9e56fd",
   "metadata": {},
   "outputs": [],
   "source": []
  },
  {
   "cell_type": "code",
   "execution_count": 130,
   "id": "168f1bc5",
   "metadata": {},
   "outputs": [
    {
     "name": "stdout",
     "output_type": "stream",
     "text": [
      "          53        54        55        56        57        58\n",
      "54 -9.620787       NaN       NaN       NaN       NaN       NaN\n",
      "55 -9.035632 -9.633735       NaN       NaN       NaN       NaN\n",
      "56       NaN -9.060902 -9.647735       NaN       NaN       NaN\n",
      "57       NaN       NaN -9.086398 -9.660192       NaN       NaN\n",
      "58       NaN       NaN       NaN -9.109888 -5.651050       NaN\n",
      "59       NaN       NaN       NaN       NaN -5.389284 -5.911565\n"
     ]
    }
   ],
   "source": [
    "nforecasts = 2  \n",
    "forecasts = {}   \n",
    "\n",
    "nobs = len(df.Diff)\n",
    "n_init_training = int(nobs * 0.9)  \n",
    "\n",
    "init_training_mortality = df.Diff.iloc[:n_init_training]  \n",
    "mod = sm.tsa.arima.ARIMA(init_training_mortality, order=(1, 0, 0))  \n",
    "res = mod.fit()\n",
    "\n",
    "forecasts[init_training_mortality.index[-1]] = res.forecast(steps=nforecasts)\n",
    "\n",
    "for t in range(n_init_training, nobs):\n",
    "    \n",
    "    updated_mortality = df.Diff.iloc[t:t+1]\n",
    "    res = res.append(updated_mortality, refit=True)\n",
    "    \n",
    "    forecasts[updated_mortality.index[0]] = res.forecast(steps=nforecasts)\n",
    "\n",
    "forecasts = pd.concat(forecasts, axis=1)\n",
    "\n",
    "print(forecasts.iloc[:6, :6])\n"
   ]
  },
  {
   "cell_type": "code",
   "execution_count": null,
   "id": "73ab269c",
   "metadata": {},
   "outputs": [],
   "source": []
  },
  {
   "cell_type": "code",
   "execution_count": 131,
   "id": "b46d742b",
   "metadata": {},
   "outputs": [
    {
     "data": {
      "text/plain": [
       "54"
      ]
     },
     "execution_count": 131,
     "metadata": {},
     "output_type": "execute_result"
    }
   ],
   "source": [
    "n_init_training"
   ]
  },
  {
   "cell_type": "code",
   "execution_count": 132,
   "id": "66911c9b",
   "metadata": {},
   "outputs": [],
   "source": [
    "def flatten(column):\n",
    "    return column.dropna().reset_index(drop=True)   "
   ]
  },
  {
   "cell_type": "code",
   "execution_count": 133,
   "id": "b421f8c4",
   "metadata": {},
   "outputs": [
    {
     "name": "stdout",
     "output_type": "stream",
     "text": [
      "               53        54        55        56        57        58\n",
      "horizon                                                            \n",
      "1       -9.620787 -9.633735 -9.647735 -9.660192 -5.651050 -5.911565\n",
      "2       -9.035632 -9.060902 -9.086398 -9.109888 -5.389284 -5.635561\n"
     ]
    }
   ],
   "source": [
    "# Flattening the results\n",
    "forecast_2 = forecasts.apply(lambda column: column).reindex(forecasts.index) \n",
    "flattened2 = forecast_2.apply(flatten)\n",
    "flattened2.index = (flattened2.index + 1 ).rename('horizon') \n",
    "print(flattened2.iloc[:4, :6])"
   ]
  },
  {
   "cell_type": "code",
   "execution_count": 134,
   "id": "d8f2f480",
   "metadata": {},
   "outputs": [
    {
     "data": {
      "text/html": [
       "<div>\n",
       "<style scoped>\n",
       "    .dataframe tbody tr th:only-of-type {\n",
       "        vertical-align: middle;\n",
       "    }\n",
       "\n",
       "    .dataframe tbody tr th {\n",
       "        vertical-align: top;\n",
       "    }\n",
       "\n",
       "    .dataframe thead th {\n",
       "        text-align: right;\n",
       "    }\n",
       "</style>\n",
       "<table border=\"1\" class=\"dataframe\">\n",
       "  <thead>\n",
       "    <tr style=\"text-align: right;\">\n",
       "      <th>horizon</th>\n",
       "      <th>1</th>\n",
       "      <th>2</th>\n",
       "    </tr>\n",
       "  </thead>\n",
       "  <tbody>\n",
       "    <tr>\n",
       "      <th>53</th>\n",
       "      <td>-9.620787</td>\n",
       "      <td>-9.035632</td>\n",
       "    </tr>\n",
       "    <tr>\n",
       "      <th>54</th>\n",
       "      <td>-9.633735</td>\n",
       "      <td>-9.060902</td>\n",
       "    </tr>\n",
       "    <tr>\n",
       "      <th>55</th>\n",
       "      <td>-9.647735</td>\n",
       "      <td>-9.086398</td>\n",
       "    </tr>\n",
       "    <tr>\n",
       "      <th>56</th>\n",
       "      <td>-9.660192</td>\n",
       "      <td>-9.109888</td>\n",
       "    </tr>\n",
       "    <tr>\n",
       "      <th>57</th>\n",
       "      <td>-5.651050</td>\n",
       "      <td>-5.389284</td>\n",
       "    </tr>\n",
       "    <tr>\n",
       "      <th>58</th>\n",
       "      <td>-5.911565</td>\n",
       "      <td>-5.635561</td>\n",
       "    </tr>\n",
       "    <tr>\n",
       "      <th>59</th>\n",
       "      <td>-5.916168</td>\n",
       "      <td>-5.644282</td>\n",
       "    </tr>\n",
       "  </tbody>\n",
       "</table>\n",
       "</div>"
      ],
      "text/plain": [
       "horizon         1         2\n",
       "53      -9.620787 -9.035632\n",
       "54      -9.633735 -9.060902\n",
       "55      -9.647735 -9.086398\n",
       "56      -9.660192 -9.109888\n",
       "57      -5.651050 -5.389284\n",
       "58      -5.911565 -5.635561\n",
       "59      -5.916168 -5.644282"
      ]
     },
     "execution_count": 134,
     "metadata": {},
     "output_type": "execute_result"
    }
   ],
   "source": [
    "pivoted_forecasts=flattened2.T\n",
    "\n",
    "pivoted_forecasts"
   ]
  },
  {
   "cell_type": "code",
   "execution_count": 135,
   "id": "378af10b",
   "metadata": {},
   "outputs": [
    {
     "data": {
      "text/html": [
       "<div>\n",
       "<style scoped>\n",
       "    .dataframe tbody tr th:only-of-type {\n",
       "        vertical-align: middle;\n",
       "    }\n",
       "\n",
       "    .dataframe tbody tr th {\n",
       "        vertical-align: top;\n",
       "    }\n",
       "\n",
       "    .dataframe thead th {\n",
       "        text-align: right;\n",
       "    }\n",
       "</style>\n",
       "<table border=\"1\" class=\"dataframe\">\n",
       "  <thead>\n",
       "    <tr style=\"text-align: right;\">\n",
       "      <th></th>\n",
       "      <th>yearcode</th>\n",
       "      <th>mortrate</th>\n",
       "      <th>Diff</th>\n",
       "      <th>1</th>\n",
       "      <th>2</th>\n",
       "    </tr>\n",
       "  </thead>\n",
       "  <tbody>\n",
       "    <tr>\n",
       "      <th>52</th>\n",
       "      <td>2013-01-01</td>\n",
       "      <td>372.091</td>\n",
       "      <td>-10.262</td>\n",
       "      <td>NaN</td>\n",
       "      <td>NaN</td>\n",
       "    </tr>\n",
       "    <tr>\n",
       "      <th>53</th>\n",
       "      <td>2014-01-01</td>\n",
       "      <td>361.829</td>\n",
       "      <td>-10.262</td>\n",
       "      <td>-9.620787</td>\n",
       "      <td>-9.035632</td>\n",
       "    </tr>\n",
       "    <tr>\n",
       "      <th>54</th>\n",
       "      <td>2015-01-01</td>\n",
       "      <td>351.568</td>\n",
       "      <td>-10.261</td>\n",
       "      <td>-9.633735</td>\n",
       "      <td>-9.060902</td>\n",
       "    </tr>\n",
       "    <tr>\n",
       "      <th>55</th>\n",
       "      <td>2016-01-01</td>\n",
       "      <td>341.306</td>\n",
       "      <td>-10.262</td>\n",
       "      <td>-9.647735</td>\n",
       "      <td>-9.086398</td>\n",
       "    </tr>\n",
       "    <tr>\n",
       "      <th>56</th>\n",
       "      <td>2017-01-01</td>\n",
       "      <td>331.044</td>\n",
       "      <td>-10.262</td>\n",
       "      <td>-9.660192</td>\n",
       "      <td>-9.109888</td>\n",
       "    </tr>\n",
       "    <tr>\n",
       "      <th>57</th>\n",
       "      <td>2018-01-01</td>\n",
       "      <td>325.106</td>\n",
       "      <td>-5.938</td>\n",
       "      <td>-5.651050</td>\n",
       "      <td>-5.389284</td>\n",
       "    </tr>\n",
       "    <tr>\n",
       "      <th>58</th>\n",
       "      <td>2019-01-01</td>\n",
       "      <td>318.892</td>\n",
       "      <td>-6.214</td>\n",
       "      <td>-5.911565</td>\n",
       "      <td>-5.635561</td>\n",
       "    </tr>\n",
       "    <tr>\n",
       "      <th>59</th>\n",
       "      <td>2020-01-01</td>\n",
       "      <td>312.678</td>\n",
       "      <td>-6.214</td>\n",
       "      <td>-5.916168</td>\n",
       "      <td>-5.644282</td>\n",
       "    </tr>\n",
       "  </tbody>\n",
       "</table>\n",
       "</div>"
      ],
      "text/plain": [
       "     yearcode  mortrate    Diff         1         2\n",
       "52 2013-01-01   372.091 -10.262       NaN       NaN\n",
       "53 2014-01-01   361.829 -10.262 -9.620787 -9.035632\n",
       "54 2015-01-01   351.568 -10.261 -9.633735 -9.060902\n",
       "55 2016-01-01   341.306 -10.262 -9.647735 -9.086398\n",
       "56 2017-01-01   331.044 -10.262 -9.660192 -9.109888\n",
       "57 2018-01-01   325.106  -5.938 -5.651050 -5.389284\n",
       "58 2019-01-01   318.892  -6.214 -5.911565 -5.635561\n",
       "59 2020-01-01   312.678  -6.214 -5.916168 -5.644282"
      ]
     },
     "execution_count": 135,
     "metadata": {},
     "output_type": "execute_result"
    }
   ],
   "source": [
    "mortality_forecast=pd.concat([df,pivoted_forecasts],axis=1)\n",
    "mortality_forecast[52:]"
   ]
  },
  {
   "cell_type": "code",
   "execution_count": null,
   "id": "30893a70",
   "metadata": {},
   "outputs": [],
   "source": []
  },
  {
   "cell_type": "code",
   "execution_count": 136,
   "id": "4bea0a91",
   "metadata": {},
   "outputs": [
    {
     "data": {
      "image/png": "[encoded data removed]",
      "text/plain": [
       "<Figure size 936x288 with 1 Axes>"
      ]
     },
     "metadata": {
      "image/png": {
       "height": 280,
       "width": 928
      }
     },
     "output_type": "display_data"
    }
   ],
   "source": [
    "fig, ax = plt.subplots()\n",
    "\n",
    "ax.plot(mortality_forecast['Diff'])\n",
    "ax.plot(mortality_forecast[1], 'k--', label='AR(1) 1-step')\n",
    "plt.xlabel('Dates as index')\n",
    "plt.ylabel('Rates')\n",
    "plt.title('Differenced and forecasted')\n",
    "ax.axvspan(53, 59, color='#808080', alpha=0.15)\n",
    "\n",
    "ax.legend(loc=1)\n",
    "\n",
    "\n",
    "plt.show()"
   ]
  },
  {
   "cell_type": "code",
   "execution_count": 137,
   "id": "ba424a67",
   "metadata": {},
   "outputs": [
    {
     "data": {
      "image/png": "[encoded data removed]",
      "text/plain": [
       "<Figure size 936x288 with 1 Axes>"
      ]
     },
     "metadata": {
      "image/png": {
       "height": 280,
       "width": 928
      }
     },
     "output_type": "display_data"
    }
   ],
   "source": [
    "fig, ax = plt.subplots()\n",
    "\n",
    "ax.plot(mortality_forecast['Diff'])\n",
    "ax.plot(mortality_forecast[2], 'k--', label='AR(1) 2-steps')\n",
    "plt.xlabel('Dates as index')\n",
    "plt.ylabel('Rates')\n",
    "plt.title('Differenced and forecasted')\n",
    "ax.axvspan(53, 59, color='#808080', alpha=0.15)\n",
    "\n",
    "ax.legend(loc=1)\n",
    "\n",
    "\n",
    "plt.show()"
   ]
  },
  {
   "cell_type": "code",
   "execution_count": null,
   "id": "3c4de9ed",
   "metadata": {},
   "outputs": [],
   "source": []
  },
  {
   "cell_type": "code",
   "execution_count": null,
   "id": "5f8b83f5",
   "metadata": {},
   "outputs": [],
   "source": []
  },
  {
   "cell_type": "code",
   "execution_count": null,
   "id": "de02369b",
   "metadata": {},
   "outputs": [],
   "source": []
  },
  {
   "cell_type": "code",
   "execution_count": 138,
   "id": "d1ea1087",
   "metadata": {},
   "outputs": [
    {
     "name": "stdout",
     "output_type": "stream",
     "text": [
      "          53        54        55        56       57\n",
      "54 -0.640213       NaN       NaN       NaN      NaN\n",
      "55 -1.226368 -0.628265       NaN       NaN      NaN\n",
      "56       NaN -1.201098 -0.614265       NaN      NaN\n",
      "57       NaN       NaN  3.148398  3.722192      NaN\n",
      "58       NaN       NaN       NaN  2.895888 -0.56295\n"
     ]
    }
   ],
   "source": [
    "forecast_errors = forecasts.apply(lambda column: mortality_forecast.Diff - column).reindex(forecasts.index)\n",
    "\n",
    "print(forecast_errors.iloc[:5, :5])"
   ]
  },
  {
   "cell_type": "code",
   "execution_count": null,
   "id": "12fbaba5",
   "metadata": {},
   "outputs": [],
   "source": []
  },
  {
   "cell_type": "code",
   "execution_count": 139,
   "id": "e444f988",
   "metadata": {},
   "outputs": [
    {
     "name": "stdout",
     "output_type": "stream",
     "text": [
      "               53        54        55        56        57\n",
      "horizon                                                  \n",
      "1       -0.640213 -0.628265 -0.614265  3.722192 -0.562950\n",
      "2       -1.226368 -1.201098  3.148398  2.895888 -0.824716\n"
     ]
    }
   ],
   "source": [
    "flattened = forecast_errors.apply(flatten)\n",
    "flattened.index = (flattened.index + 1).rename('horizon')\n",
    "\n",
    "print(flattened.iloc[:4, :5])"
   ]
  },
  {
   "cell_type": "code",
   "execution_count": null,
   "id": "db53e61e",
   "metadata": {},
   "outputs": [],
   "source": []
  },
  {
   "cell_type": "markdown",
   "id": "1333eecd",
   "metadata": {},
   "source": [
    "#### Question G"
   ]
  },
  {
   "cell_type": "code",
   "execution_count": 140,
   "id": "745c6ad1",
   "metadata": {},
   "outputs": [
    {
     "name": "stdout",
     "output_type": "stream",
     "text": [
      "horizon\n",
      "1    1.604421\n",
      "2    2.094056\n",
      "dtype: float64\n"
     ]
    }
   ],
   "source": [
    "# root mean square error (RMSE)\n",
    "rmse = (flattened**2).mean(axis=1)**0.5\n",
    "\n",
    "print(rmse)"
   ]
  },
  {
   "cell_type": "code",
   "execution_count": 141,
   "id": "578aef6d",
   "metadata": {},
   "outputs": [],
   "source": [
    "# one step is superior"
   ]
  },
  {
   "cell_type": "code",
   "execution_count": 142,
   "id": "bba28084",
   "metadata": {},
   "outputs": [
    {
     "name": "stdout",
     "output_type": "stream",
     "text": [
      "horizon\n",
      "1    1.078387\n",
      "2    1.859294\n",
      "dtype: float64\n"
     ]
    }
   ],
   "source": [
    "# Compute the mean absolute error (MAE)\n",
    "mae = (abs(flattened).mean(axis=1))\n",
    "\n",
    "print(mae)"
   ]
  },
  {
   "cell_type": "code",
   "execution_count": 143,
   "id": "05047c2c",
   "metadata": {},
   "outputs": [],
   "source": [
    "# one step is superior"
   ]
  },
  {
   "cell_type": "code",
   "execution_count": null,
   "id": "a94c4add",
   "metadata": {},
   "outputs": [],
   "source": []
  },
  {
   "cell_type": "code",
   "execution_count": null,
   "id": "4c3d4687",
   "metadata": {},
   "outputs": [],
   "source": []
  },
  {
   "cell_type": "markdown",
   "id": "b2918736",
   "metadata": {},
   "source": [
    "#### Question H"
   ]
  },
  {
   "cell_type": "code",
   "execution_count": null,
   "id": "1e3cc1b1",
   "metadata": {},
   "outputs": [],
   "source": []
  },
  {
   "cell_type": "code",
   "execution_count": 144,
   "id": "fd8f52f7",
   "metadata": {},
   "outputs": [],
   "source": [
    "def to_original_scale(initial_value,column):\n",
    "    \n",
    "    original_data = np.r_[initial_value,column].cumsum()\n",
    "    return original_data"
   ]
  },
  {
   "cell_type": "code",
   "execution_count": null,
   "id": "bcf3b1de",
   "metadata": {},
   "outputs": [],
   "source": []
  },
  {
   "cell_type": "code",
   "execution_count": null,
   "id": "484a8916",
   "metadata": {},
   "outputs": [],
   "source": []
  },
  {
   "cell_type": "code",
   "execution_count": 145,
   "id": "b6dd198e",
   "metadata": {},
   "outputs": [
    {
     "data": {
      "text/plain": [
       "array([448.651, 446.245, 443.839, 441.7  , 439.561, 437.422, 435.283,\n",
       "       433.144, 428.622, 424.1  , 419.578, 415.056, 410.534, 406.911,\n",
       "       403.287, 399.663, 396.04 , 392.416, 391.215, 390.015, 388.814,\n",
       "       387.614, 386.413, 393.175, 399.937, 406.699, 413.461, 420.223,\n",
       "       437.204, 454.185, 471.166, 488.147, 505.128, 524.064, 543.   ,\n",
       "       561.936, 580.871, 599.807, 607.771, 615.736, 623.7  , 631.664,\n",
       "       639.628, 619.232, 598.836, 578.44 , 558.043, 537.647, 506.588,\n",
       "       475.53 , 444.471, 413.412, 382.353, 372.091, 361.829, 351.568,\n",
       "       341.306, 331.044, 325.106, 318.892, 312.678])"
      ]
     },
     "execution_count": 145,
     "metadata": {},
     "output_type": "execute_result"
    }
   ],
   "source": [
    "# differenced data to original scale\n",
    "\n",
    "to_original_scale(448.651,mortality_forecast.Diff)"
   ]
  },
  {
   "cell_type": "code",
   "execution_count": 146,
   "id": "96544332",
   "metadata": {},
   "outputs": [
    {
     "data": {
      "text/html": [
       "<div>\n",
       "<style scoped>\n",
       "    .dataframe tbody tr th:only-of-type {\n",
       "        vertical-align: middle;\n",
       "    }\n",
       "\n",
       "    .dataframe tbody tr th {\n",
       "        vertical-align: top;\n",
       "    }\n",
       "\n",
       "    .dataframe thead th {\n",
       "        text-align: right;\n",
       "    }\n",
       "</style>\n",
       "<table border=\"1\" class=\"dataframe\">\n",
       "  <thead>\n",
       "    <tr style=\"text-align: right;\">\n",
       "      <th></th>\n",
       "      <th>yearcode</th>\n",
       "      <th>mortrate</th>\n",
       "      <th>Diff</th>\n",
       "    </tr>\n",
       "  </thead>\n",
       "  <tbody>\n",
       "    <tr>\n",
       "      <th>0</th>\n",
       "      <td>1961-01-01</td>\n",
       "      <td>446.245</td>\n",
       "      <td>-2.406</td>\n",
       "    </tr>\n",
       "    <tr>\n",
       "      <th>1</th>\n",
       "      <td>1962-01-01</td>\n",
       "      <td>443.839</td>\n",
       "      <td>-2.406</td>\n",
       "    </tr>\n",
       "    <tr>\n",
       "      <th>2</th>\n",
       "      <td>1963-01-01</td>\n",
       "      <td>441.700</td>\n",
       "      <td>-2.139</td>\n",
       "    </tr>\n",
       "    <tr>\n",
       "      <th>3</th>\n",
       "      <td>1964-01-01</td>\n",
       "      <td>439.561</td>\n",
       "      <td>-2.139</td>\n",
       "    </tr>\n",
       "    <tr>\n",
       "      <th>4</th>\n",
       "      <td>1965-01-01</td>\n",
       "      <td>437.422</td>\n",
       "      <td>-2.139</td>\n",
       "    </tr>\n",
       "    <tr>\n",
       "      <th>5</th>\n",
       "      <td>1966-01-01</td>\n",
       "      <td>435.283</td>\n",
       "      <td>-2.139</td>\n",
       "    </tr>\n",
       "    <tr>\n",
       "      <th>6</th>\n",
       "      <td>1967-01-01</td>\n",
       "      <td>433.144</td>\n",
       "      <td>-2.139</td>\n",
       "    </tr>\n",
       "    <tr>\n",
       "      <th>7</th>\n",
       "      <td>1968-01-01</td>\n",
       "      <td>428.622</td>\n",
       "      <td>-4.522</td>\n",
       "    </tr>\n",
       "    <tr>\n",
       "      <th>8</th>\n",
       "      <td>1969-01-01</td>\n",
       "      <td>424.100</td>\n",
       "      <td>-4.522</td>\n",
       "    </tr>\n",
       "    <tr>\n",
       "      <th>9</th>\n",
       "      <td>1970-01-01</td>\n",
       "      <td>419.578</td>\n",
       "      <td>-4.522</td>\n",
       "    </tr>\n",
       "  </tbody>\n",
       "</table>\n",
       "</div>"
      ],
      "text/plain": [
       "    yearcode  mortrate   Diff\n",
       "0 1961-01-01   446.245 -2.406\n",
       "1 1962-01-01   443.839 -2.406\n",
       "2 1963-01-01   441.700 -2.139\n",
       "3 1964-01-01   439.561 -2.139\n",
       "4 1965-01-01   437.422 -2.139\n",
       "5 1966-01-01   435.283 -2.139\n",
       "6 1967-01-01   433.144 -2.139\n",
       "7 1968-01-01   428.622 -4.522\n",
       "8 1969-01-01   424.100 -4.522\n",
       "9 1970-01-01   419.578 -4.522"
      ]
     },
     "execution_count": 146,
     "metadata": {},
     "output_type": "execute_result"
    }
   ],
   "source": [
    "df.head(10)"
   ]
  },
  {
   "cell_type": "code",
   "execution_count": 147,
   "id": "90b3e656",
   "metadata": {},
   "outputs": [
    {
     "data": {
      "text/html": [
       "<div>\n",
       "<style scoped>\n",
       "    .dataframe tbody tr th:only-of-type {\n",
       "        vertical-align: middle;\n",
       "    }\n",
       "\n",
       "    .dataframe tbody tr th {\n",
       "        vertical-align: top;\n",
       "    }\n",
       "\n",
       "    .dataframe thead th {\n",
       "        text-align: right;\n",
       "    }\n",
       "</style>\n",
       "<table border=\"1\" class=\"dataframe\">\n",
       "  <thead>\n",
       "    <tr style=\"text-align: right;\">\n",
       "      <th></th>\n",
       "      <th>yearcode</th>\n",
       "      <th>mortrate</th>\n",
       "      <th>Diff</th>\n",
       "      <th>1</th>\n",
       "      <th>2</th>\n",
       "    </tr>\n",
       "  </thead>\n",
       "  <tbody>\n",
       "    <tr>\n",
       "      <th>50</th>\n",
       "      <td>2011-01-01</td>\n",
       "      <td>413.412</td>\n",
       "      <td>-31.059</td>\n",
       "      <td>NaN</td>\n",
       "      <td>NaN</td>\n",
       "    </tr>\n",
       "    <tr>\n",
       "      <th>51</th>\n",
       "      <td>2012-01-01</td>\n",
       "      <td>382.353</td>\n",
       "      <td>-31.059</td>\n",
       "      <td>NaN</td>\n",
       "      <td>NaN</td>\n",
       "    </tr>\n",
       "    <tr>\n",
       "      <th>52</th>\n",
       "      <td>2013-01-01</td>\n",
       "      <td>372.091</td>\n",
       "      <td>-10.262</td>\n",
       "      <td>NaN</td>\n",
       "      <td>NaN</td>\n",
       "    </tr>\n",
       "    <tr>\n",
       "      <th>53</th>\n",
       "      <td>2014-01-01</td>\n",
       "      <td>361.829</td>\n",
       "      <td>-10.262</td>\n",
       "      <td>-9.620787</td>\n",
       "      <td>-9.035632</td>\n",
       "    </tr>\n",
       "    <tr>\n",
       "      <th>54</th>\n",
       "      <td>2015-01-01</td>\n",
       "      <td>351.568</td>\n",
       "      <td>-10.261</td>\n",
       "      <td>-9.633735</td>\n",
       "      <td>-9.060902</td>\n",
       "    </tr>\n",
       "    <tr>\n",
       "      <th>55</th>\n",
       "      <td>2016-01-01</td>\n",
       "      <td>341.306</td>\n",
       "      <td>-10.262</td>\n",
       "      <td>-9.647735</td>\n",
       "      <td>-9.086398</td>\n",
       "    </tr>\n",
       "    <tr>\n",
       "      <th>56</th>\n",
       "      <td>2017-01-01</td>\n",
       "      <td>331.044</td>\n",
       "      <td>-10.262</td>\n",
       "      <td>-9.660192</td>\n",
       "      <td>-9.109888</td>\n",
       "    </tr>\n",
       "    <tr>\n",
       "      <th>57</th>\n",
       "      <td>2018-01-01</td>\n",
       "      <td>325.106</td>\n",
       "      <td>-5.938</td>\n",
       "      <td>-5.651050</td>\n",
       "      <td>-5.389284</td>\n",
       "    </tr>\n",
       "    <tr>\n",
       "      <th>58</th>\n",
       "      <td>2019-01-01</td>\n",
       "      <td>318.892</td>\n",
       "      <td>-6.214</td>\n",
       "      <td>-5.911565</td>\n",
       "      <td>-5.635561</td>\n",
       "    </tr>\n",
       "    <tr>\n",
       "      <th>59</th>\n",
       "      <td>2020-01-01</td>\n",
       "      <td>312.678</td>\n",
       "      <td>-6.214</td>\n",
       "      <td>-5.916168</td>\n",
       "      <td>-5.644282</td>\n",
       "    </tr>\n",
       "  </tbody>\n",
       "</table>\n",
       "</div>"
      ],
      "text/plain": [
       "     yearcode  mortrate    Diff         1         2\n",
       "50 2011-01-01   413.412 -31.059       NaN       NaN\n",
       "51 2012-01-01   382.353 -31.059       NaN       NaN\n",
       "52 2013-01-01   372.091 -10.262       NaN       NaN\n",
       "53 2014-01-01   361.829 -10.262 -9.620787 -9.035632\n",
       "54 2015-01-01   351.568 -10.261 -9.633735 -9.060902\n",
       "55 2016-01-01   341.306 -10.262 -9.647735 -9.086398\n",
       "56 2017-01-01   331.044 -10.262 -9.660192 -9.109888\n",
       "57 2018-01-01   325.106  -5.938 -5.651050 -5.389284\n",
       "58 2019-01-01   318.892  -6.214 -5.911565 -5.635561\n",
       "59 2020-01-01   312.678  -6.214 -5.916168 -5.644282"
      ]
     },
     "execution_count": 147,
     "metadata": {},
     "output_type": "execute_result"
    }
   ],
   "source": [
    "mortality_forecast.tail(10)"
   ]
  },
  {
   "cell_type": "code",
   "execution_count": null,
   "id": "0ac39c62",
   "metadata": {},
   "outputs": [],
   "source": []
  },
  {
   "cell_type": "code",
   "execution_count": 148,
   "id": "c62b3189",
   "metadata": {},
   "outputs": [
    {
     "data": {
      "text/plain": [
       "0    362.470213\n",
       "1    352.836478\n",
       "2    343.188743\n",
       "3    333.528551\n",
       "4    327.877500\n",
       "5    321.965935\n",
       "6    316.049767\n",
       "dtype: float64"
      ]
     },
     "execution_count": 148,
     "metadata": {},
     "output_type": "execute_result"
    }
   ],
   "source": [
    "# forecasts to original\n",
    "\n",
    "forecasts_to_original = pd.Series(to_original_scale(372.091,mortality_forecast[1][53::]))[1::].reset_index(drop = True)\n",
    "forecasts_to_original"
   ]
  },
  {
   "cell_type": "code",
   "execution_count": 149,
   "id": "38cc523a",
   "metadata": {
    "scrolled": true
   },
   "outputs": [
    {
     "data": {
      "text/plain": [
       "0    361.829\n",
       "1    351.568\n",
       "2    341.306\n",
       "3    331.044\n",
       "4    325.106\n",
       "5    318.892\n",
       "6    312.678\n",
       "Name: mortrate, dtype: float64"
      ]
     },
     "execution_count": 149,
     "metadata": {},
     "output_type": "execute_result"
    }
   ],
   "source": [
    "# original, tail(7)\n",
    "\n",
    "tail_7_original = pd.Series(mortality_forecast['mortrate'][53::]).reset_index(drop = True)\n",
    "tail_7_original"
   ]
  },
  {
   "cell_type": "code",
   "execution_count": null,
   "id": "00305bf6",
   "metadata": {},
   "outputs": [],
   "source": []
  },
  {
   "cell_type": "code",
   "execution_count": null,
   "id": "e2e45caf",
   "metadata": {},
   "outputs": [],
   "source": []
  },
  {
   "cell_type": "code",
   "execution_count": 150,
   "id": "7de2bad5",
   "metadata": {},
   "outputs": [
    {
     "data": {
      "image/png": "[encoded data removed]",
      "text/plain": [
       "<Figure size 936x288 with 1 Axes>"
      ]
     },
     "metadata": {
      "image/png": {
       "height": 280,
       "width": 928
      }
     },
     "output_type": "display_data"
    }
   ],
   "source": [
    "# original VS Forecast\n",
    "\n",
    "plt.plot(tail_7_original,label = 'Original Data')\n",
    "plt.plot(forecasts_to_original,label = 'Forecasts')\n",
    "plt.xlabel('Dates as index')\n",
    "plt.ylabel('Rates')\n",
    "plt.title('Original VS Forecast')\n",
    "plt.legend()\n",
    "plt.show()"
   ]
  },
  {
   "cell_type": "code",
   "execution_count": null,
   "id": "99c00aa5",
   "metadata": {},
   "outputs": [],
   "source": []
  },
  {
   "cell_type": "code",
   "execution_count": null,
   "id": "c08475b6",
   "metadata": {},
   "outputs": [],
   "source": []
  },
  {
   "cell_type": "markdown",
   "id": "ce3c2abf",
   "metadata": {},
   "source": [
    "#### Question I"
   ]
  },
  {
   "cell_type": "code",
   "execution_count": null,
   "id": "851cfe1d",
   "metadata": {},
   "outputs": [],
   "source": []
  },
  {
   "cell_type": "code",
   "execution_count": null,
   "id": "1fe84108",
   "metadata": {},
   "outputs": [],
   "source": []
  },
  {
   "cell_type": "code",
   "execution_count": 151,
   "id": "7accabd0",
   "metadata": {},
   "outputs": [
    {
     "name": "stdout",
     "output_type": "stream",
     "text": [
      "          53        54        55        56        57        58        59\n",
      "54 -9.620787       NaN       NaN       NaN       NaN       NaN       NaN\n",
      "55 -9.035632 -9.633735       NaN       NaN       NaN       NaN       NaN\n",
      "56 -8.501637 -9.060902 -9.647735       NaN       NaN       NaN       NaN\n",
      "57 -8.014326 -8.537777 -9.086398 -9.660192       NaN       NaN       NaN\n",
      "58 -7.569620 -8.060046 -8.573429 -9.109888 -5.651050       NaN       NaN\n",
      "59 -7.163793 -7.623771 -8.104661 -8.606680 -5.389284 -5.911565       NaN\n",
      "60 -6.793447 -7.225353 -7.676283 -8.146538 -5.150490 -5.635561 -5.916168\n",
      "61 -6.455478 -6.861509 -7.284817 -7.725775 -4.932652 -5.383678 -5.644282\n",
      "62 -6.147057 -6.529238 -6.927081 -7.341022 -4.733932 -5.153807 -5.396082\n",
      "63 -5.865601 -6.225799 -6.600170 -6.989197 -4.552652 -4.944025 -5.169505\n"
     ]
    }
   ],
   "source": [
    "nforecasts2 = 50   # 50 steps ahead\n",
    "forecasts2 = {}   \n",
    "\n",
    "mod2 = sm.tsa.arima.ARIMA(init_training_mortality, order=(1, 0, 0))\n",
    "res2 = mod2.fit()\n",
    "\n",
    "forecasts2[init_training_mortality.index[-1]] = res2.forecast(steps=nforecasts2)\n",
    "\n",
    "for t in range(n_init_training, nobs):\n",
    "    \n",
    "    updated_mortality2 = df.Diff.iloc[t:t+1]\n",
    "    res2 = res2.append(updated_mortality2, refit=True)\n",
    "    \n",
    "    forecasts2[updated_mortality2.index[0]] = res2.forecast(steps=nforecasts2)\n",
    "\n",
    "forecasts2 = pd.concat(forecasts2, axis=1)\n",
    "\n",
    "print(forecasts2.iloc[:10, :10])"
   ]
  },
  {
   "cell_type": "code",
   "execution_count": null,
   "id": "8969d765",
   "metadata": {},
   "outputs": [],
   "source": []
  },
  {
   "cell_type": "code",
   "execution_count": null,
   "id": "1f8cf8cc",
   "metadata": {},
   "outputs": [],
   "source": []
  },
  {
   "cell_type": "code",
   "execution_count": 152,
   "id": "1a13d590",
   "metadata": {},
   "outputs": [
    {
     "name": "stdout",
     "output_type": "stream",
     "text": [
      "               53        54        55        56        57        58\n",
      "horizon                                                            \n",
      "1       -9.620787 -9.633735 -9.647735 -9.660192 -5.651050 -5.911565\n",
      "2       -9.035632 -9.060902 -9.086398 -9.109888 -5.389284 -5.635561\n",
      "3       -8.501637 -8.537777 -8.573429 -8.606680 -5.150490 -5.383678\n",
      "4       -8.014326 -8.060046 -8.104661 -8.146538 -4.932652 -5.153807\n"
     ]
    }
   ],
   "source": [
    "forecast_50 = forecasts2.apply(lambda column: column).reindex(forecasts2.index) \n",
    "flattened50 = forecast_50.apply(flatten) \n",
    "flattened50.index = (flattened50.index + 1 ).rename('horizon') \n",
    "print(flattened50.iloc[:4, :6])"
   ]
  },
  {
   "cell_type": "code",
   "execution_count": null,
   "id": "b3c0c034",
   "metadata": {},
   "outputs": [],
   "source": []
  },
  {
   "cell_type": "code",
   "execution_count": 153,
   "id": "0b2eecd8",
   "metadata": {},
   "outputs": [
    {
     "data": {
      "text/html": [
       "<div>\n",
       "<style scoped>\n",
       "    .dataframe tbody tr th:only-of-type {\n",
       "        vertical-align: middle;\n",
       "    }\n",
       "\n",
       "    .dataframe tbody tr th {\n",
       "        vertical-align: top;\n",
       "    }\n",
       "\n",
       "    .dataframe thead th {\n",
       "        text-align: right;\n",
       "    }\n",
       "</style>\n",
       "<table border=\"1\" class=\"dataframe\">\n",
       "  <thead>\n",
       "    <tr style=\"text-align: right;\">\n",
       "      <th>horizon</th>\n",
       "      <th>1</th>\n",
       "      <th>2</th>\n",
       "      <th>3</th>\n",
       "      <th>4</th>\n",
       "      <th>5</th>\n",
       "      <th>6</th>\n",
       "      <th>7</th>\n",
       "      <th>8</th>\n",
       "      <th>9</th>\n",
       "      <th>10</th>\n",
       "      <th>...</th>\n",
       "      <th>41</th>\n",
       "      <th>42</th>\n",
       "      <th>43</th>\n",
       "      <th>44</th>\n",
       "      <th>45</th>\n",
       "      <th>46</th>\n",
       "      <th>47</th>\n",
       "      <th>48</th>\n",
       "      <th>49</th>\n",
       "      <th>50</th>\n",
       "    </tr>\n",
       "  </thead>\n",
       "  <tbody>\n",
       "    <tr>\n",
       "      <th>53</th>\n",
       "      <td>-9.620787</td>\n",
       "      <td>-9.035632</td>\n",
       "      <td>-8.501637</td>\n",
       "      <td>-8.014326</td>\n",
       "      <td>-7.569620</td>\n",
       "      <td>-7.163793</td>\n",
       "      <td>-6.793447</td>\n",
       "      <td>-6.455478</td>\n",
       "      <td>-6.147057</td>\n",
       "      <td>-5.865601</td>\n",
       "      <td>...</td>\n",
       "      <td>-3.100042</td>\n",
       "      <td>-3.084976</td>\n",
       "      <td>-3.071228</td>\n",
       "      <td>-3.058682</td>\n",
       "      <td>-3.047233</td>\n",
       "      <td>-3.036785</td>\n",
       "      <td>-3.027250</td>\n",
       "      <td>-3.018548</td>\n",
       "      <td>-3.010608</td>\n",
       "      <td>-3.003362</td>\n",
       "    </tr>\n",
       "    <tr>\n",
       "      <th>54</th>\n",
       "      <td>-9.633735</td>\n",
       "      <td>-9.060902</td>\n",
       "      <td>-8.537777</td>\n",
       "      <td>-8.060046</td>\n",
       "      <td>-7.623771</td>\n",
       "      <td>-7.225353</td>\n",
       "      <td>-6.861509</td>\n",
       "      <td>-6.529238</td>\n",
       "      <td>-6.225799</td>\n",
       "      <td>-5.948692</td>\n",
       "      <td>...</td>\n",
       "      <td>-3.207301</td>\n",
       "      <td>-3.192126</td>\n",
       "      <td>-3.178268</td>\n",
       "      <td>-3.165612</td>\n",
       "      <td>-3.154055</td>\n",
       "      <td>-3.143501</td>\n",
       "      <td>-3.133862</td>\n",
       "      <td>-3.125060</td>\n",
       "      <td>-3.117021</td>\n",
       "      <td>-3.109681</td>\n",
       "    </tr>\n",
       "    <tr>\n",
       "      <th>55</th>\n",
       "      <td>-9.647735</td>\n",
       "      <td>-9.086398</td>\n",
       "      <td>-8.573429</td>\n",
       "      <td>-8.104661</td>\n",
       "      <td>-7.676283</td>\n",
       "      <td>-7.284817</td>\n",
       "      <td>-6.927081</td>\n",
       "      <td>-6.600170</td>\n",
       "      <td>-6.301428</td>\n",
       "      <td>-6.028426</td>\n",
       "      <td>...</td>\n",
       "      <td>-3.310331</td>\n",
       "      <td>-3.295058</td>\n",
       "      <td>-3.281101</td>\n",
       "      <td>-3.268346</td>\n",
       "      <td>-3.256690</td>\n",
       "      <td>-3.246039</td>\n",
       "      <td>-3.236305</td>\n",
       "      <td>-3.227411</td>\n",
       "      <td>-3.219282</td>\n",
       "      <td>-3.211854</td>\n",
       "    </tr>\n",
       "    <tr>\n",
       "      <th>56</th>\n",
       "      <td>-9.660192</td>\n",
       "      <td>-9.109888</td>\n",
       "      <td>-8.606680</td>\n",
       "      <td>-8.146538</td>\n",
       "      <td>-7.725775</td>\n",
       "      <td>-7.341022</td>\n",
       "      <td>-6.989197</td>\n",
       "      <td>-6.667482</td>\n",
       "      <td>-6.373300</td>\n",
       "      <td>-6.104294</td>\n",
       "      <td>...</td>\n",
       "      <td>-3.409523</td>\n",
       "      <td>-3.394163</td>\n",
       "      <td>-3.380117</td>\n",
       "      <td>-3.367273</td>\n",
       "      <td>-3.355529</td>\n",
       "      <td>-3.344790</td>\n",
       "      <td>-3.334969</td>\n",
       "      <td>-3.325990</td>\n",
       "      <td>-3.317778</td>\n",
       "      <td>-3.310270</td>\n",
       "    </tr>\n",
       "    <tr>\n",
       "      <th>57</th>\n",
       "      <td>-5.651050</td>\n",
       "      <td>-5.389284</td>\n",
       "      <td>-5.150490</td>\n",
       "      <td>-4.932652</td>\n",
       "      <td>-4.733932</td>\n",
       "      <td>-4.552652</td>\n",
       "      <td>-4.387281</td>\n",
       "      <td>-4.236423</td>\n",
       "      <td>-4.098805</td>\n",
       "      <td>-3.973264</td>\n",
       "      <td>...</td>\n",
       "      <td>-2.743984</td>\n",
       "      <td>-2.737343</td>\n",
       "      <td>-2.731284</td>\n",
       "      <td>-2.725757</td>\n",
       "      <td>-2.720715</td>\n",
       "      <td>-2.716116</td>\n",
       "      <td>-2.711920</td>\n",
       "      <td>-2.708092</td>\n",
       "      <td>-2.704601</td>\n",
       "      <td>-2.701415</td>\n",
       "    </tr>\n",
       "    <tr>\n",
       "      <th>58</th>\n",
       "      <td>-5.911565</td>\n",
       "      <td>-5.635561</td>\n",
       "      <td>-5.383678</td>\n",
       "      <td>-5.153807</td>\n",
       "      <td>-4.944025</td>\n",
       "      <td>-4.752576</td>\n",
       "      <td>-4.577858</td>\n",
       "      <td>-4.418410</td>\n",
       "      <td>-4.272896</td>\n",
       "      <td>-4.140098</td>\n",
       "      <td>...</td>\n",
       "      <td>-2.834775</td>\n",
       "      <td>-2.827658</td>\n",
       "      <td>-2.821163</td>\n",
       "      <td>-2.815236</td>\n",
       "      <td>-2.809827</td>\n",
       "      <td>-2.804890</td>\n",
       "      <td>-2.800385</td>\n",
       "      <td>-2.796274</td>\n",
       "      <td>-2.792522</td>\n",
       "      <td>-2.789098</td>\n",
       "    </tr>\n",
       "    <tr>\n",
       "      <th>59</th>\n",
       "      <td>-5.916168</td>\n",
       "      <td>-5.644282</td>\n",
       "      <td>-5.396082</td>\n",
       "      <td>-5.169505</td>\n",
       "      <td>-4.962666</td>\n",
       "      <td>-4.773847</td>\n",
       "      <td>-4.601478</td>\n",
       "      <td>-4.444125</td>\n",
       "      <td>-4.300480</td>\n",
       "      <td>-4.169349</td>\n",
       "      <td>...</td>\n",
       "      <td>-2.876714</td>\n",
       "      <td>-2.869618</td>\n",
       "      <td>-2.863141</td>\n",
       "      <td>-2.857228</td>\n",
       "      <td>-2.851830</td>\n",
       "      <td>-2.846903</td>\n",
       "      <td>-2.842404</td>\n",
       "      <td>-2.838298</td>\n",
       "      <td>-2.834549</td>\n",
       "      <td>-2.831127</td>\n",
       "    </tr>\n",
       "  </tbody>\n",
       "</table>\n",
       "<p>7 rows × 50 columns</p>\n",
       "</div>"
      ],
      "text/plain": [
       "horizon        1         2         3         4         5         6         7   \\\n",
       "53      -9.620787 -9.035632 -8.501637 -8.014326 -7.569620 -7.163793 -6.793447   \n",
       "54      -9.633735 -9.060902 -8.537777 -8.060046 -7.623771 -7.225353 -6.861509   \n",
       "55      -9.647735 -9.086398 -8.573429 -8.104661 -7.676283 -7.284817 -6.927081   \n",
       "56      -9.660192 -9.109888 -8.606680 -8.146538 -7.725775 -7.341022 -6.989197   \n",
       "57      -5.651050 -5.389284 -5.150490 -4.932652 -4.733932 -4.552652 -4.387281   \n",
       "58      -5.911565 -5.635561 -5.383678 -5.153807 -4.944025 -4.752576 -4.577858   \n",
       "59      -5.916168 -5.644282 -5.396082 -5.169505 -4.962666 -4.773847 -4.601478   \n",
       "\n",
       "horizon        8         9         10  ...        41        42        43  \\\n",
       "53      -6.455478 -6.147057 -5.865601  ... -3.100042 -3.084976 -3.071228   \n",
       "54      -6.529238 -6.225799 -5.948692  ... -3.207301 -3.192126 -3.178268   \n",
       "55      -6.600170 -6.301428 -6.028426  ... -3.310331 -3.295058 -3.281101   \n",
       "56      -6.667482 -6.373300 -6.104294  ... -3.409523 -3.394163 -3.380117   \n",
       "57      -4.236423 -4.098805 -3.973264  ... -2.743984 -2.737343 -2.731284   \n",
       "58      -4.418410 -4.272896 -4.140098  ... -2.834775 -2.827658 -2.821163   \n",
       "59      -4.444125 -4.300480 -4.169349  ... -2.876714 -2.869618 -2.863141   \n",
       "\n",
       "horizon        44        45        46        47        48        49        50  \n",
       "53      -3.058682 -3.047233 -3.036785 -3.027250 -3.018548 -3.010608 -3.003362  \n",
       "54      -3.165612 -3.154055 -3.143501 -3.133862 -3.125060 -3.117021 -3.109681  \n",
       "55      -3.268346 -3.256690 -3.246039 -3.236305 -3.227411 -3.219282 -3.211854  \n",
       "56      -3.367273 -3.355529 -3.344790 -3.334969 -3.325990 -3.317778 -3.310270  \n",
       "57      -2.725757 -2.720715 -2.716116 -2.711920 -2.708092 -2.704601 -2.701415  \n",
       "58      -2.815236 -2.809827 -2.804890 -2.800385 -2.796274 -2.792522 -2.789098  \n",
       "59      -2.857228 -2.851830 -2.846903 -2.842404 -2.838298 -2.834549 -2.831127  \n",
       "\n",
       "[7 rows x 50 columns]"
      ]
     },
     "execution_count": 153,
     "metadata": {},
     "output_type": "execute_result"
    }
   ],
   "source": [
    "pivoted_forecasts2 = flattened50.T\n",
    "\n",
    "pivoted_forecasts2"
   ]
  },
  {
   "cell_type": "code",
   "execution_count": null,
   "id": "b3bd347a",
   "metadata": {},
   "outputs": [],
   "source": []
  },
  {
   "cell_type": "code",
   "execution_count": 154,
   "id": "9f4d7d66",
   "metadata": {},
   "outputs": [
    {
     "data": {
      "text/html": [
       "<div>\n",
       "<style scoped>\n",
       "    .dataframe tbody tr th:only-of-type {\n",
       "        vertical-align: middle;\n",
       "    }\n",
       "\n",
       "    .dataframe tbody tr th {\n",
       "        vertical-align: top;\n",
       "    }\n",
       "\n",
       "    .dataframe thead th {\n",
       "        text-align: right;\n",
       "    }\n",
       "</style>\n",
       "<table border=\"1\" class=\"dataframe\">\n",
       "  <thead>\n",
       "    <tr style=\"text-align: right;\">\n",
       "      <th></th>\n",
       "      <th>yearcode</th>\n",
       "      <th>mortrate</th>\n",
       "      <th>Diff</th>\n",
       "      <th>1</th>\n",
       "      <th>2</th>\n",
       "      <th>3</th>\n",
       "      <th>4</th>\n",
       "      <th>5</th>\n",
       "      <th>6</th>\n",
       "      <th>7</th>\n",
       "      <th>...</th>\n",
       "      <th>41</th>\n",
       "      <th>42</th>\n",
       "      <th>43</th>\n",
       "      <th>44</th>\n",
       "      <th>45</th>\n",
       "      <th>46</th>\n",
       "      <th>47</th>\n",
       "      <th>48</th>\n",
       "      <th>49</th>\n",
       "      <th>50</th>\n",
       "    </tr>\n",
       "  </thead>\n",
       "  <tbody>\n",
       "    <tr>\n",
       "      <th>52</th>\n",
       "      <td>2013-01-01</td>\n",
       "      <td>372.091</td>\n",
       "      <td>-10.262</td>\n",
       "      <td>NaN</td>\n",
       "      <td>NaN</td>\n",
       "      <td>NaN</td>\n",
       "      <td>NaN</td>\n",
       "      <td>NaN</td>\n",
       "      <td>NaN</td>\n",
       "      <td>NaN</td>\n",
       "      <td>...</td>\n",
       "      <td>NaN</td>\n",
       "      <td>NaN</td>\n",
       "      <td>NaN</td>\n",
       "      <td>NaN</td>\n",
       "      <td>NaN</td>\n",
       "      <td>NaN</td>\n",
       "      <td>NaN</td>\n",
       "      <td>NaN</td>\n",
       "      <td>NaN</td>\n",
       "      <td>NaN</td>\n",
       "    </tr>\n",
       "    <tr>\n",
       "      <th>53</th>\n",
       "      <td>2014-01-01</td>\n",
       "      <td>361.829</td>\n",
       "      <td>-10.262</td>\n",
       "      <td>-9.620787</td>\n",
       "      <td>-9.035632</td>\n",
       "      <td>-8.501637</td>\n",
       "      <td>-8.014326</td>\n",
       "      <td>-7.569620</td>\n",
       "      <td>-7.163793</td>\n",
       "      <td>-6.793447</td>\n",
       "      <td>...</td>\n",
       "      <td>-3.100042</td>\n",
       "      <td>-3.084976</td>\n",
       "      <td>-3.071228</td>\n",
       "      <td>-3.058682</td>\n",
       "      <td>-3.047233</td>\n",
       "      <td>-3.036785</td>\n",
       "      <td>-3.027250</td>\n",
       "      <td>-3.018548</td>\n",
       "      <td>-3.010608</td>\n",
       "      <td>-3.003362</td>\n",
       "    </tr>\n",
       "    <tr>\n",
       "      <th>54</th>\n",
       "      <td>2015-01-01</td>\n",
       "      <td>351.568</td>\n",
       "      <td>-10.261</td>\n",
       "      <td>-9.633735</td>\n",
       "      <td>-9.060902</td>\n",
       "      <td>-8.537777</td>\n",
       "      <td>-8.060046</td>\n",
       "      <td>-7.623771</td>\n",
       "      <td>-7.225353</td>\n",
       "      <td>-6.861509</td>\n",
       "      <td>...</td>\n",
       "      <td>-3.207301</td>\n",
       "      <td>-3.192126</td>\n",
       "      <td>-3.178268</td>\n",
       "      <td>-3.165612</td>\n",
       "      <td>-3.154055</td>\n",
       "      <td>-3.143501</td>\n",
       "      <td>-3.133862</td>\n",
       "      <td>-3.125060</td>\n",
       "      <td>-3.117021</td>\n",
       "      <td>-3.109681</td>\n",
       "    </tr>\n",
       "    <tr>\n",
       "      <th>55</th>\n",
       "      <td>2016-01-01</td>\n",
       "      <td>341.306</td>\n",
       "      <td>-10.262</td>\n",
       "      <td>-9.647735</td>\n",
       "      <td>-9.086398</td>\n",
       "      <td>-8.573429</td>\n",
       "      <td>-8.104661</td>\n",
       "      <td>-7.676283</td>\n",
       "      <td>-7.284817</td>\n",
       "      <td>-6.927081</td>\n",
       "      <td>...</td>\n",
       "      <td>-3.310331</td>\n",
       "      <td>-3.295058</td>\n",
       "      <td>-3.281101</td>\n",
       "      <td>-3.268346</td>\n",
       "      <td>-3.256690</td>\n",
       "      <td>-3.246039</td>\n",
       "      <td>-3.236305</td>\n",
       "      <td>-3.227411</td>\n",
       "      <td>-3.219282</td>\n",
       "      <td>-3.211854</td>\n",
       "    </tr>\n",
       "    <tr>\n",
       "      <th>56</th>\n",
       "      <td>2017-01-01</td>\n",
       "      <td>331.044</td>\n",
       "      <td>-10.262</td>\n",
       "      <td>-9.660192</td>\n",
       "      <td>-9.109888</td>\n",
       "      <td>-8.606680</td>\n",
       "      <td>-8.146538</td>\n",
       "      <td>-7.725775</td>\n",
       "      <td>-7.341022</td>\n",
       "      <td>-6.989197</td>\n",
       "      <td>...</td>\n",
       "      <td>-3.409523</td>\n",
       "      <td>-3.394163</td>\n",
       "      <td>-3.380117</td>\n",
       "      <td>-3.367273</td>\n",
       "      <td>-3.355529</td>\n",
       "      <td>-3.344790</td>\n",
       "      <td>-3.334969</td>\n",
       "      <td>-3.325990</td>\n",
       "      <td>-3.317778</td>\n",
       "      <td>-3.310270</td>\n",
       "    </tr>\n",
       "    <tr>\n",
       "      <th>57</th>\n",
       "      <td>2018-01-01</td>\n",
       "      <td>325.106</td>\n",
       "      <td>-5.938</td>\n",
       "      <td>-5.651050</td>\n",
       "      <td>-5.389284</td>\n",
       "      <td>-5.150490</td>\n",
       "      <td>-4.932652</td>\n",
       "      <td>-4.733932</td>\n",
       "      <td>-4.552652</td>\n",
       "      <td>-4.387281</td>\n",
       "      <td>...</td>\n",
       "      <td>-2.743984</td>\n",
       "      <td>-2.737343</td>\n",
       "      <td>-2.731284</td>\n",
       "      <td>-2.725757</td>\n",
       "      <td>-2.720715</td>\n",
       "      <td>-2.716116</td>\n",
       "      <td>-2.711920</td>\n",
       "      <td>-2.708092</td>\n",
       "      <td>-2.704601</td>\n",
       "      <td>-2.701415</td>\n",
       "    </tr>\n",
       "    <tr>\n",
       "      <th>58</th>\n",
       "      <td>2019-01-01</td>\n",
       "      <td>318.892</td>\n",
       "      <td>-6.214</td>\n",
       "      <td>-5.911565</td>\n",
       "      <td>-5.635561</td>\n",
       "      <td>-5.383678</td>\n",
       "      <td>-5.153807</td>\n",
       "      <td>-4.944025</td>\n",
       "      <td>-4.752576</td>\n",
       "      <td>-4.577858</td>\n",
       "      <td>...</td>\n",
       "      <td>-2.834775</td>\n",
       "      <td>-2.827658</td>\n",
       "      <td>-2.821163</td>\n",
       "      <td>-2.815236</td>\n",
       "      <td>-2.809827</td>\n",
       "      <td>-2.804890</td>\n",
       "      <td>-2.800385</td>\n",
       "      <td>-2.796274</td>\n",
       "      <td>-2.792522</td>\n",
       "      <td>-2.789098</td>\n",
       "    </tr>\n",
       "    <tr>\n",
       "      <th>59</th>\n",
       "      <td>2020-01-01</td>\n",
       "      <td>312.678</td>\n",
       "      <td>-6.214</td>\n",
       "      <td>-5.916168</td>\n",
       "      <td>-5.644282</td>\n",
       "      <td>-5.396082</td>\n",
       "      <td>-5.169505</td>\n",
       "      <td>-4.962666</td>\n",
       "      <td>-4.773847</td>\n",
       "      <td>-4.601478</td>\n",
       "      <td>...</td>\n",
       "      <td>-2.876714</td>\n",
       "      <td>-2.869618</td>\n",
       "      <td>-2.863141</td>\n",
       "      <td>-2.857228</td>\n",
       "      <td>-2.851830</td>\n",
       "      <td>-2.846903</td>\n",
       "      <td>-2.842404</td>\n",
       "      <td>-2.838298</td>\n",
       "      <td>-2.834549</td>\n",
       "      <td>-2.831127</td>\n",
       "    </tr>\n",
       "  </tbody>\n",
       "</table>\n",
       "<p>8 rows × 53 columns</p>\n",
       "</div>"
      ],
      "text/plain": [
       "     yearcode  mortrate    Diff         1         2         3         4  \\\n",
       "52 2013-01-01   372.091 -10.262       NaN       NaN       NaN       NaN   \n",
       "53 2014-01-01   361.829 -10.262 -9.620787 -9.035632 -8.501637 -8.014326   \n",
       "54 2015-01-01   351.568 -10.261 -9.633735 -9.060902 -8.537777 -8.060046   \n",
       "55 2016-01-01   341.306 -10.262 -9.647735 -9.086398 -8.573429 -8.104661   \n",
       "56 2017-01-01   331.044 -10.262 -9.660192 -9.109888 -8.606680 -8.146538   \n",
       "57 2018-01-01   325.106  -5.938 -5.651050 -5.389284 -5.150490 -4.932652   \n",
       "58 2019-01-01   318.892  -6.214 -5.911565 -5.635561 -5.383678 -5.153807   \n",
       "59 2020-01-01   312.678  -6.214 -5.916168 -5.644282 -5.396082 -5.169505   \n",
       "\n",
       "           5         6         7  ...        41        42        43        44  \\\n",
       "52       NaN       NaN       NaN  ...       NaN       NaN       NaN       NaN   \n",
       "53 -7.569620 -7.163793 -6.793447  ... -3.100042 -3.084976 -3.071228 -3.058682   \n",
       "54 -7.623771 -7.225353 -6.861509  ... -3.207301 -3.192126 -3.178268 -3.165612   \n",
       "55 -7.676283 -7.284817 -6.927081  ... -3.310331 -3.295058 -3.281101 -3.268346   \n",
       "56 -7.725775 -7.341022 -6.989197  ... -3.409523 -3.394163 -3.380117 -3.367273   \n",
       "57 -4.733932 -4.552652 -4.387281  ... -2.743984 -2.737343 -2.731284 -2.725757   \n",
       "58 -4.944025 -4.752576 -4.577858  ... -2.834775 -2.827658 -2.821163 -2.815236   \n",
       "59 -4.962666 -4.773847 -4.601478  ... -2.876714 -2.869618 -2.863141 -2.857228   \n",
       "\n",
       "          45        46        47        48        49        50  \n",
       "52       NaN       NaN       NaN       NaN       NaN       NaN  \n",
       "53 -3.047233 -3.036785 -3.027250 -3.018548 -3.010608 -3.003362  \n",
       "54 -3.154055 -3.143501 -3.133862 -3.125060 -3.117021 -3.109681  \n",
       "55 -3.256690 -3.246039 -3.236305 -3.227411 -3.219282 -3.211854  \n",
       "56 -3.355529 -3.344790 -3.334969 -3.325990 -3.317778 -3.310270  \n",
       "57 -2.720715 -2.716116 -2.711920 -2.708092 -2.704601 -2.701415  \n",
       "58 -2.809827 -2.804890 -2.800385 -2.796274 -2.792522 -2.789098  \n",
       "59 -2.851830 -2.846903 -2.842404 -2.838298 -2.834549 -2.831127  \n",
       "\n",
       "[8 rows x 53 columns]"
      ]
     },
     "execution_count": 154,
     "metadata": {},
     "output_type": "execute_result"
    }
   ],
   "source": [
    "mortality_forecast2 = pd.concat([df2,pivoted_forecasts2],axis=1)\n",
    "mortality_forecast2[52:]"
   ]
  },
  {
   "cell_type": "code",
   "execution_count": null,
   "id": "21e62cf6",
   "metadata": {},
   "outputs": [],
   "source": []
  },
  {
   "cell_type": "code",
   "execution_count": 155,
   "id": "6a7918d7",
   "metadata": {},
   "outputs": [
    {
     "data": {
      "image/png": "[encoded data removed]",
      "text/plain": [
       "<Figure size 936x288 with 1 Axes>"
      ]
     },
     "metadata": {
      "image/png": {
       "height": 280,
       "width": 928
      }
     },
     "output_type": "display_data"
    }
   ],
   "source": [
    "# differenced vs one-step and 2-steps ahead\n",
    "\n",
    "plt.plot(mortality_forecast2.dropna().yearcode,mortality_forecast2.dropna().Diff,label = 'Differenced')\n",
    "plt.plot(mortality_forecast2.dropna().yearcode,mortality_forecast2.dropna()[1],label = 'one-step ahead forecast')\n",
    "plt.plot(mortality_forecast2.dropna().yearcode,mortality_forecast2.dropna()[50],label = '50-steps ahead forecast')\n",
    "plt.xlabel('Dates as index')\n",
    "plt.ylabel('Rates')\n",
    "plt.title('Differenced VS forecasts')\n",
    "plt.legend()\n",
    "plt.show()"
   ]
  },
  {
   "cell_type": "markdown",
   "id": "6e616eb0",
   "metadata": {},
   "source": [
    "##### One step ahead predictions are more close to the differenced data than the 50 steps ahead forecasts.  This is because 50 steps ahead forecasts  uses more predicted values from the past than the one step ahead approach, making it prone to error accumulation problem. This means in 50-steps ahead approach,many errors made in the past are brought into future forecasts as compared to the one-step approach."
   ]
  },
  {
   "cell_type": "code",
   "execution_count": null,
   "id": "f2099c90",
   "metadata": {},
   "outputs": [],
   "source": []
  },
  {
   "cell_type": "code",
   "execution_count": null,
   "id": "b7cdbcd5",
   "metadata": {},
   "outputs": [],
   "source": []
  },
  {
   "cell_type": "code",
   "execution_count": null,
   "id": "a138503e",
   "metadata": {},
   "outputs": [],
   "source": []
  },
  {
   "cell_type": "code",
   "execution_count": null,
   "id": "4b79dbf9",
   "metadata": {},
   "outputs": [],
   "source": []
  },
  {
   "cell_type": "code",
   "execution_count": null,
   "id": "7d2e123e",
   "metadata": {},
   "outputs": [],
   "source": []
  },
  {
   "cell_type": "code",
   "execution_count": null,
   "id": "d816b5aa",
   "metadata": {},
   "outputs": [],
   "source": []
  },
  {
   "cell_type": "code",
   "execution_count": null,
   "id": "3bfe7bd9",
   "metadata": {},
   "outputs": [],
   "source": []
  },
  {
   "cell_type": "code",
   "execution_count": null,
   "id": "e9247cca",
   "metadata": {},
   "outputs": [],
   "source": []
  }
 ],
 "metadata": {
  "kernelspec": {
   "display_name": "Python 3 (ipykernel)",
   "language": "python",
   "name": "python3"
  },
  "language_info": {
   "codemirror_mode": {
    "name": "ipython",
    "version": 3
   },
   "file_extension": ".py",
   "mimetype": "text/x-python",
   "name": "python",
   "nbconvert_exporter": "python",
   "pygments_lexer": "ipython3",
   "version": "3.9.12"
  }
 },
 "nbformat": 4,
 "nbformat_minor": 5
}
